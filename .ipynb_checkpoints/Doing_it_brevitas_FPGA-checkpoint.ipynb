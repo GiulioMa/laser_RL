{
 "cells": [
  {
   "cell_type": "code",
   "execution_count": null,
   "id": "c1a4eced-04f5-4644-a6e5-48c11b693075",
   "metadata": {},
   "outputs": [],
   "source": [
    "import torch\n",
    "from sac_FPGA import sac \n"
   ]
  },
  {
   "cell_type": "code",
   "execution_count": null,
   "id": "7a3b0709-bd5f-4974-8aa3-61b356490b49",
   "metadata": {},
   "outputs": [],
   "source": [
    "ac_kwargs = dict(hidden_sizes=[64,80], activation=torch.nn.ReLU)\n",
    "\n",
    "logger_kwargs = dict(output_dir='real', exp_name='lambda')\n"
   ]
  },
  {
   "cell_type": "code",
   "execution_count": null,
   "id": "c53e12d3-8aab-40cd-be23-b2b60d8c340d",
   "metadata": {},
   "outputs": [],
   "source": [
    "sac(alpha=0.00001, lr=1e-4, ep_len=80, gradient_steps=80, seed=1995, ac_kwargs=ac_kwargs, logger_kwargs=logger_kwargs)\n"
   ]
  },
  {
   "cell_type": "code",
   "execution_count": null,
   "id": "2ed6aa1f-9289-40d7-98da-b80de283966a",
   "metadata": {},
   "outputs": [],
   "source": []
  },
  {
   "cell_type": "code",
   "execution_count": null,
   "id": "581c8bfb-3325-4487-b546-d98faedf1cb6",
   "metadata": {},
   "outputs": [],
   "source": []
  },
  {
   "cell_type": "code",
   "execution_count": null,
   "id": "0a4367d1-bc7e-458c-a188-4084f9be6639",
   "metadata": {},
   "outputs": [],
   "source": []
  },
  {
   "cell_type": "code",
   "execution_count": null,
   "id": "1bae226e-5165-475a-ab17-d859f635d922",
   "metadata": {},
   "outputs": [],
   "source": [
    "server_ip = '192.168.1.10'\n",
    "server_port = 7"
   ]
  },
  {
   "cell_type": "code",
   "execution_count": null,
   "id": "8d8d8566-2d30-4e07-8ddf-633329df9bb3",
   "metadata": {},
   "outputs": [],
   "source": [
    "import socket\n",
    "client = socket.socket(socket.AF_INET, socket.SOCK_STREAM)\n",
    "client.settimeout(60 * 60)  # Set the timeout for blocking socket operations, 1h\n",
    "client.connect((server_ip, server_port))"
   ]
  },
  {
   "cell_type": "code",
   "execution_count": null,
   "id": "55b11a52",
   "metadata": {},
   "outputs": [],
   "source": [
    "def calculate_reward(o2):\n",
    "    return o2[0]\n",
    "\n",
    "from utils import create_input_tensor\n",
    "import core_FPGA as core\n",
    "\n",
    "device = torch.device('cuda:0' if torch.cuda.is_available() else 'cpu')\n",
    "\n",
    "# Have to run inference once - create random data\n",
    "o = create_input_tensor(core.N_INPUT, device)\n",
    "\n",
    "# Convert o to tensors and move to the appropriate device\n",
    "o = torch.as_tensor(o, dtype=torch.float32, device=device).view(1, -1)"
   ]
  },
  {
   "cell_type": "code",
   "execution_count": null,
   "id": "8f63c3b5-e213-4cbd-a3a4-8cc2c1d35449",
   "metadata": {},
   "outputs": [],
   "source": [
    "from utils import weights_creation\n",
    "import struct\n",
    "import core_FPGA as core\n",
    "def FPGA_update(o, ep, client):\n",
    "   \n",
    "    ac.pi.eval()\n",
    "\n",
    "    out_brevitas = ac.pi.twin(o)\n",
    "\n",
    "    scale = float(out_brevitas.scale[0, 0])  \n",
    "\n",
    "    weights_list, _ = weights_creation(ac.pi.twin, scale, ep)\n",
    "\n",
    "    # Serialize and send the weights list; here, each weight is packed as a single byte, reflecting the int8 data type.\n",
    "    packed_weights = b''.join(struct.pack('<b', weight) for weight in weights_list)\n",
    "    client.send(packed_weights) # Send it all \n",
    "\n",
    "    print(f'Done streaming weights for episode {ep}.')\n",
    "\n",
    "    ac.pi.train()"
   ]
  },
  {
   "cell_type": "code",
   "execution_count": null,
   "id": "48590ed2-7deb-4442-8f73-c08dbfe52f03",
   "metadata": {},
   "outputs": [],
   "source": [
    "ac = core.MLPActorCritic(device, hidden_sizes=[core.N_HIDDEN_1, core.N_HIDDEN_2]).to(device)"
   ]
  },
  {
   "cell_type": "code",
   "execution_count": null,
   "id": "83e129e5-201f-4258-86f8-c551e1c7bdc5",
   "metadata": {},
   "outputs": [],
   "source": [
    "FPGA_update(o, 0, client)"
   ]
  },
  {
   "cell_type": "code",
   "execution_count": null,
   "id": "11c5b882-590c-463a-8f71-b37142fbace7",
   "metadata": {},
   "outputs": [],
   "source": [
    "ep_ret = 0\n",
    "acts, obs, rews = [], [], []\n",
    "ep_num = 0\n",
    "\n",
    "if (ep_num % core.EPISODE_PER_EPOCH) == 0:\n",
    "    test_flag = True\n",
    "else:\n",
    "    test_flag = False\n",
    "\n",
    "print(f'Ready for episode: {ep_num}, test_flag: {test_flag}.')\n",
    "\n",
    "# Receive obs and actions from FPGA\n",
    "observations, actions = core.receive_data_episode(client, core.N_STEPS * core.N_INPUT, core.N_STEPS)\n"
   ]
  },
  {
   "cell_type": "code",
   "execution_count": null,
   "id": "eeef1b67-adb3-4f1c-bd13-8fc6d35c79fc",
   "metadata": {
    "scrolled": true
   },
   "outputs": [],
   "source": [
    "observations"
   ]
  },
  {
   "cell_type": "code",
   "execution_count": null,
   "id": "cb1b8c51-8f58-4e9a-9567-b635d6ead8aa",
   "metadata": {},
   "outputs": [],
   "source": [
    "ch1 = [obs[0] for obs in observations]"
   ]
  },
  {
   "cell_type": "code",
   "execution_count": null,
   "id": "cbc66688-e577-4c19-b44a-9953edea6b62",
   "metadata": {},
   "outputs": [],
   "source": [
    "acts = [act*core.ACT_LIM for act in actions]"
   ]
  },
  {
   "cell_type": "code",
   "execution_count": null,
   "id": "ec96a2d4-9f15-4f5f-81cf-b61f7a889ffe",
   "metadata": {
    "scrolled": true
   },
   "outputs": [],
   "source": [
    "acts"
   ]
  },
  {
   "cell_type": "code",
   "execution_count": null,
   "id": "3494d0f3-ab2e-439d-a4cc-762daf9f34bb",
   "metadata": {},
   "outputs": [],
   "source": [
    "max(ch1)"
   ]
  },
  {
   "cell_type": "code",
   "execution_count": null,
   "id": "e44dc241-9a38-40a2-8bf3-6e4e883daf74",
   "metadata": {},
   "outputs": [],
   "source": [
    "max_V = 0.18\n",
    "for step in range(80):\n",
    "\n",
    "    target = step/80*max_V\n",
    "    \n",
    "    print(target)"
   ]
  },
  {
   "cell_type": "code",
   "execution_count": null,
   "id": "7cb15f34-2e79-461d-afb0-a18f5d85af0d",
   "metadata": {},
   "outputs": [],
   "source": []
  }
 ],
 "metadata": {
  "kernelspec": {
   "display_name": "Python 3 (ipykernel)",
   "language": "python",
   "name": "python3"
  },
  "language_info": {
   "codemirror_mode": {
    "name": "ipython",
    "version": 3
   },
   "file_extension": ".py",
   "mimetype": "text/x-python",
   "name": "python",
   "nbconvert_exporter": "python",
   "pygments_lexer": "ipython3",
   "version": "3.12.4"
  }
 },
 "nbformat": 4,
 "nbformat_minor": 5
}
