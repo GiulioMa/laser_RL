{
 "cells": [
  {
   "cell_type": "code",
   "execution_count": 2,
   "id": "a055390c-9431-4122-93c5-378885c04a62",
   "metadata": {},
   "outputs": [
    {
     "data": {
      "text/plain": [
       "199.99999800000003"
      ]
     },
     "execution_count": 2,
     "metadata": {},
     "output_type": "execute_result"
    }
   ],
   "source": [
    "action_hls = 0.0\n",
    "action = 0.0001\n",
    "\n",
    "error = 2 * abs(action_hls - action) / (abs(action_hls) + abs(action) + 1e-12) * 100\n",
    "error"
   ]
  },
  {
   "cell_type": "code",
   "execution_count": null,
   "id": "ce8829f0-814d-4610-880f-eef614b026d3",
   "metadata": {},
   "outputs": [],
   "source": []
  }
 ],
 "metadata": {
  "kernelspec": {
   "display_name": "Python 3 (ipykernel)",
   "language": "python",
   "name": "python3"
  },
  "language_info": {
   "codemirror_mode": {
    "name": "ipython",
    "version": 3
   },
   "file_extension": ".py",
   "mimetype": "text/x-python",
   "name": "python",
   "nbconvert_exporter": "python",
   "pygments_lexer": "ipython3",
   "version": "3.12.4"
  }
 },
 "nbformat": 4,
 "nbformat_minor": 5
}
