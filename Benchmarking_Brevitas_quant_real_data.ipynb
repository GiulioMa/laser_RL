{
 "cells": [
  {
   "cell_type": "code",
   "execution_count": 3,
   "id": "4976d96d-ca6e-4c21-b532-58f54a841d31",
   "metadata": {},
   "outputs": [
    {
     "name": "stderr",
     "output_type": "stream",
     "text": [
      "C:\\Users\\giuli\\AppData\\Local\\Temp\\ipykernel_23964\\4219794048.py:19: FutureWarning: You are using `torch.load` with `weights_only=False` (the current default value), which uses the default pickle module implicitly. It is possible to construct malicious pickle data which will execute arbitrary code during unpickling (See https://github.com/pytorch/pytorch/blob/main/SECURITY.md#untrusted-models for more details). In a future release, the default value for `weights_only` will be flipped to `True`. This limits the functions that could be executed during unpickling. Arbitrary objects will no longer be allowed to be loaded via this mode unless they are explicitly allowlisted by the user via `torch.serialization.add_safe_globals`. We recommend you start setting `weights_only=True` for any use case where you don't have full control of the loaded file. Please open an issue on GitHub for any issues related to this experimental feature.\n",
      "  state_dict = torch.load(model_path, map_location=device)\n",
      "C:\\Users\\giuli\\Anaconda3\\envs\\brevitas_env\\Lib\\site-packages\\torch\\_tensor.py:1413: UserWarning: Named tensors and all their associated APIs are an experimental feature and subject to change. Please do not use them for anything important until they are released as stable. (Triggered internally at C:\\cb\\pytorch_1000000000000\\work\\c10/core/TensorImpl.h:1928.)\n",
      "  return super().rename(names)\n"
     ]
    },
    {
     "name": "stdout",
     "output_type": "stream",
     "text": [
      "Processed 20 episodes.\n",
      "Error Statistics:\n",
      "  Max: 0.00021469227098326536\n",
      "  Min: -0.00013654176775922247\n",
      "  Mean: 7.704320194585933e-05\n",
      "  Median: 3.195716379545676e-07\n",
      "  Std: 8.060405838704394e-05\n",
      "  25th_percentile: 1.6400464255135684e-08\n",
      "  75th_percentile: 0.00015826338467413322\n"
     ]
    },
    {
     "data": {
      "image/png": "[encoded data removed]",
      "text/plain": [
       "<Figure size 1000x500 with 1 Axes>"
      ]
     },
     "metadata": {},
     "output_type": "display_data"
    }
   ],
   "source": [
    "import core_FPGA as core\n",
    "import torch\n",
    "import numpy as np\n",
    "import matplotlib.pyplot as plt\n",
    "import os\n",
    "\n",
    "# Initialize model and set device\n",
    "hidden_sizes = [core.N_HIDDEN_1, core.N_HIDDEN_2]\n",
    "device = torch.device('cuda:0')\n",
    "\n",
    "# Load the saved model\n",
    "def load_model(experiment_folder):\n",
    "  model_path = os.path.join(experiment_folder, 'model', 'model.pth')\n",
    "  \n",
    "  # Instantiate the model with the same architecture as when it was saved\n",
    "  model = core.Digital_twin(core.N_INPUT, 1, hidden_sizes, device).to(device)\n",
    "  \n",
    "  # Load the state dict\n",
    "  state_dict = torch.load(model_path, map_location=device)\n",
    "  \n",
    "  # Try to load the state dict, ignoring mismatched keys\n",
    "  model.load_state_dict(state_dict, strict=False)\n",
    "  \n",
    "  model.eval()\n",
    "  return model\n",
    "\n",
    "# Load saved data\n",
    "def load_data(experiment_folder, episode):\n",
    "  data_folder = os.path.join(experiment_folder, 'data')\n",
    "  obs = np.load(os.path.join(data_folder, f'obs_episode_{episode}.npy'))\n",
    "  actions = np.load(os.path.join(data_folder, f'actions_episode_{episode}.npy'))\n",
    "  return obs, actions\n",
    "\n",
    "# Get the number of saved data files\n",
    "def get_num_episodes(experiment_folder):\n",
    "  data_folder = os.path.join(experiment_folder, 'data')\n",
    "  return len([f for f in os.listdir(data_folder) if f.startswith('obs_episode_') and f.endswith('.npy')])\n",
    "\n",
    "# Matrix operations\n",
    "def matrix_multiply_sw(A, B):\n",
    "  return np.dot(A, B).astype(np.int64)\n",
    "\n",
    "def matrix_add_sw(A, B):\n",
    "  return (A + B).astype(np.int64)\n",
    "\n",
    "def apply_relu_sw(matrix):\n",
    "  return np.maximum(matrix, 0).astype(np.int64)\n",
    "\n",
    "# Forward Pass\n",
    "def forward_pass_sw(X, W1, b1, W2, b2, W3, b3):\n",
    "  A1 = apply_relu_sw(matrix_add_sw(matrix_multiply_sw(W1, X), b1))\n",
    "  A2 = apply_relu_sw(matrix_add_sw(matrix_multiply_sw(W2, A1), b2))\n",
    "  return matrix_add_sw(matrix_multiply_sw(W3, A2), b3).astype(np.int64)\n",
    "\n",
    "# Function to calculate error statistics\n",
    "def calculate_error_stats(error_list):\n",
    "  error_array = np.array(error_list)\n",
    "  return {\n",
    "      'max': np.max(error_array),\n",
    "      'min': np.min(error_array),\n",
    "      'mean': np.mean(error_array),\n",
    "      'median': np.median(error_array),\n",
    "      'std': np.std(error_array),\n",
    "      '25th_percentile': np.percentile(error_array, 25),\n",
    "      '75th_percentile': np.percentile(error_array, 75),\n",
    "  }\n",
    "\n",
    "# Initialize variables\n",
    "experiment_folder = './saving_data_scope/'\n",
    "N_RUNS = get_num_episodes(experiment_folder)\n",
    "errors = []\n",
    "\n",
    "# Load the saved model\n",
    "model = load_model(experiment_folder)\n",
    "\n",
    "# Load saved data for the first run \n",
    "obs, actions = load_data(experiment_folder, 0)\n",
    "\n",
    "# Use the first observation to get the scale\n",
    "in_float = torch.tensor(obs[0, :].reshape(1, -1), dtype=torch.float32, device=device)\n",
    "out_brevitas = model(in_float)\n",
    "\n",
    "# Extract and convert weights and biases to numpy arrays\n",
    "W1_sw = model.fc1.quant_weight().int().cpu().numpy().astype(np.int64)\n",
    "b1_sw = model.fc1.quant_bias().int().cpu().numpy().astype(np.int64).reshape(-1, 1)\n",
    "W2_sw = model.fc2.quant_weight().int().cpu().numpy().astype(np.int64)\n",
    "b2_sw = model.fc2.quant_bias().int().cpu().numpy().astype(np.int64).reshape(-1, 1)\n",
    "W3_sw = model.fc3.quant_weight().int().cpu().numpy().astype(np.int64)\n",
    "b3_sw = model.fc3.quant_bias().int().cpu().numpy().astype(np.int64).reshape(-1, 1)\n",
    "\n",
    "# Perform runs to compare results\n",
    "for run in range(N_RUNS):\n",
    "  # Load saved data for each run\n",
    "  obs, actions = load_data(experiment_folder, run)\n",
    "  \n",
    "  # Loop over all observations in the episode\n",
    "  for i in range(obs.shape[0]):\n",
    "      # Ensure input tensor has shape (1, 2)\n",
    "      in_float = torch.tensor(obs[i, :].reshape(1, -1), dtype=torch.float32, device=device)\n",
    "      \n",
    "      try:\n",
    "          out_brevitas = model(in_float)\n",
    "          out_brevitas_int = out_brevitas.int().cpu().numpy().astype(np.int64)\n",
    "      except Exception as e:\n",
    "          print(f\"Error occurred in run {run}, observation {i}: {e}\")\n",
    "          print(f\"Input tensor: {in_float}\")\n",
    "          continue\n",
    "\n",
    "      in_float = in_float * 12000.\n",
    "      X_sw = in_float.view(-1, 1).cpu().numpy().astype(np.int64)\n",
    "      Y_pred_64 = forward_pass_sw(X_sw, W1_sw, b1_sw, W2_sw, b2_sw, W3_sw, b3_sw)\n",
    "\n",
    "      # Calculate and append errors for both outputs\n",
    "      for j in range(2):\n",
    "          error = (out_brevitas_int[0, j] - Y_pred_64[j, 0]) / Y_pred_64[j, 0]\n",
    "          errors.append(error)\n",
    "\n",
    "# Calculate and print error statistics\n",
    "stats = calculate_error_stats(errors)\n",
    "print(f\"Processed {N_RUNS} episodes.\")\n",
    "print(\"Error Statistics:\")\n",
    "for stat_name, stat_value in stats.items():\n",
    "  print(f\"  {stat_name.capitalize()}: {stat_value}\")\n",
    "\n",
    "# Plot error distribution\n",
    "plt.figure(figsize=(10, 5))\n",
    "plt.hist(errors, bins=50, edgecolor='black')\n",
    "plt.title('Error Distribution')\n",
    "plt.xlabel('Error')\n",
    "plt.ylabel('Frequency')\n",
    "plt.tight_layout()\n",
    "plt.show()"
   ]
  },
  {
   "cell_type": "code",
   "execution_count": 4,
   "id": "51a56881-5ce4-4f43-8a49-1d730949b3c6",
   "metadata": {},
   "outputs": [],
   "source": [
    "obs, actions = load_data(experiment_folder, 0)"
   ]
  },
  {
   "cell_type": "code",
   "execution_count": 12,
   "id": "1cf78c9e-8272-4923-b9aa-3548c652bc47",
   "metadata": {},
   "outputs": [
    {
     "data": {
      "text/plain": [
       "9523.576171875"
      ]
     },
     "execution_count": 12,
     "metadata": {},
     "output_type": "execute_result"
    }
   ],
   "source": [
    "actions[0]"
   ]
  },
  {
   "cell_type": "code",
   "execution_count": 14,
   "id": "fc80749a-8421-451b-9343-e4dde36c5319",
   "metadata": {},
   "outputs": [
    {
     "data": {
      "text/plain": [
       "0.26425"
      ]
     },
     "execution_count": 14,
     "metadata": {},
     "output_type": "execute_result"
    }
   ],
   "source": [
    "obs[0][0]"
   ]
  },
  {
   "cell_type": "code",
   "execution_count": null,
   "id": "c1c934ca-e0e4-410f-b61f-ba1509853a60",
   "metadata": {},
   "outputs": [],
   "source": [
    "    def process_episode(o, ep_len): \n",
    "        ep_ret = 0\n",
    "        acts, obs, rews = [], [], []\n",
    "        \n",
    "        obs.append(o)\n",
    "        \n",
    "        for step in range(ep_len):\n",
    "            global global_t\n",
    "            global_t += 1\n",
    "\n",
    "            # Until the start_episode is reached, we randomly sample actions\n",
    "            # from a uniform distribution for better exploration. Afterwards, \n",
    "            # use the learned policy. \n",
    "            if global_t > start_episode * ep_len:\n",
    "                a = get_action(o)\n",
    "            else:\n",
    "                a = torch.as_tensor(env.action_space.sample(), dtype=torch.float32, device=device)\n",
    "\n",
    "            # Step the env\n",
    "            o2, r, d, _ = env.step(a.view(-1).cpu().numpy())\n",
    "            ep_ret += r\n",
    "            \n",
    "            # Convert o2, r, d to tensors and move them to the appropriate device\n",
    "            o2 = torch.as_tensor(o2, dtype=torch.float32, device=device).view(1, -1)\n",
    "            r = torch.as_tensor(r, dtype=torch.float32, device=device)\n",
    "            d = torch.as_tensor(d, dtype=torch.float32, device=device)\n",
    "\n",
    "            # Log action\n",
    "            wandb.log({\"actions\": a.cpu().numpy()}, step=global_t)\n",
    "            \n",
    "            # Populate the lists\n",
    "            obs.append(o2)\n",
    "            acts.append(a)\n",
    "            rews.append(r)\n",
    "\n",
    "            # Super critical, easy to overlook step: make sure to update \n",
    "            # most recent observation!\n",
    "            o = o2\n",
    "\n",
    "        # Log epoch return\n",
    "        wandb.log({\"EpRet\": ep_ret, \"EpLen\": ep_len}, step=global_t)\n",
    "        logger.store(EpRet=ep_ret, EpLen=ep_len)\n",
    "        # restart\n",
    "        o = env.reset()\n",
    "        o = torch.as_tensor(o, dtype=torch.float32, device=device).view(1, -1)        \n",
    "        return obs, acts, rews"
   ]
  }
 ],
 "metadata": {
  "kernelspec": {
   "display_name": "Python 3 (ipykernel)",
   "language": "python",
   "name": "python3"
  },
  "language_info": {
   "codemirror_mode": {
    "name": "ipython",
    "version": 3
   },
   "file_extension": ".py",
   "mimetype": "text/x-python",
   "name": "python",
   "nbconvert_exporter": "python",
   "pygments_lexer": "ipython3",
   "version": "3.12.4"
  }
 },
 "nbformat": 4,
 "nbformat_minor": 5
}
